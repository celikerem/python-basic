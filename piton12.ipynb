{
  "nbformat": 4,
  "nbformat_minor": 0,
  "metadata": {
    "colab": {
      "provenance": []
    },
    "kernelspec": {
      "name": "python3",
      "display_name": "Python 3"
    },
    "language_info": {
      "name": "python"
    }
  },
  "cells": [
    {
      "cell_type": "markdown",
      "source": [
        "###ÇOKLU VERİ TİPLERİ"
      ],
      "metadata": {
        "id": "typ7hILb6sJ0"
      }
    },
    {
      "cell_type": "markdown",
      "source": [
        "### List - Dict - Tuple - Set"
      ],
      "metadata": {
        "id": "HMAd3sC_6zxw"
      }
    },
    {
      "cell_type": "code",
      "execution_count": 1,
      "metadata": {
        "id": "mMjrIlRn50la"
      },
      "outputs": [],
      "source": [
        "#Çoklu değişken veri tipleri elimizdeki verileri saklamaya ve ileride kullanmaya yarar.\n",
        "#4 tanedir.\n",
        "\n",
        "\n",
        "# 1) list(liste) ---> []\n",
        "# 2) dict(sözlük)---> {}\n",
        "# 3) tuple(demet)---> ()\n",
        "# 4) set(küme)   ---> {}"
      ]
    },
    {
      "cell_type": "code",
      "source": [
        "#Listeler verilerin sıralı ve değiştirilebilir bir şekilde saklar  ve en çok kullanılan tiptir.\n",
        "#Sözlükler key : value şeklinde verileri saklar.\n",
        "#tuple demetler aynı listeler gibidir. tek farkı var listeler değiştirilebilirken tuple değiştilemez.\n",
        "#Kümeler sıralrı sırasız bir şekilde ve duplicate(kopya) veri işermeden saklar."
      ],
      "metadata": {
        "id": "ezhX0cwW7CCM"
      },
      "execution_count": 2,
      "outputs": []
    },
    {
      "cell_type": "code",
      "source": [
        "liste1 = [1, 7, 19.3, \"ali\",\"rize\",True,3000]\n",
        "liste2 = [6,9,[53,61,34],98.1,\"Murat\"]\n",
        "\n",
        "print(type(liste1) , type(liste2),sep=\"\\n\")\n",
        "print(len(liste1),len(liste2),sep=\"\\n\")"
      ],
      "metadata": {
        "colab": {
          "base_uri": "https://localhost:8080/"
        },
        "id": "D8-J35Tc8Hsf",
        "outputId": "047bfa05-1afd-43e7-9f65-eceaf75da01e"
      },
      "execution_count": 7,
      "outputs": [
        {
          "output_type": "stream",
          "name": "stdout",
          "text": [
            "<class 'list'>\n",
            "<class 'list'>\n",
            "7\n",
            "5\n"
          ]
        }
      ]
    },
    {
      "cell_type": "code",
      "source": [
        "liste1.append(\"kerem\")\n"
      ],
      "metadata": {
        "id": "2laJOcHY8kzg"
      },
      "execution_count": 8,
      "outputs": []
    },
    {
      "cell_type": "code",
      "source": [
        "liste1"
      ],
      "metadata": {
        "colab": {
          "base_uri": "https://localhost:8080/"
        },
        "id": "5e1HVwDx9NyX",
        "outputId": "a8eb1482-96bd-413b-a97e-4f54841682d1"
      },
      "execution_count": 9,
      "outputs": [
        {
          "output_type": "execute_result",
          "data": {
            "text/plain": [
              "[1, 7, 19.3, 'ali', 'rize', True, 3000, 'kerem']"
            ]
          },
          "metadata": {},
          "execution_count": 9
        }
      ]
    },
    {
      "cell_type": "code",
      "source": [
        "liste1.remove(\"ali\")"
      ],
      "metadata": {
        "id": "VcraT8Gz9Qg8"
      },
      "execution_count": 12,
      "outputs": []
    },
    {
      "cell_type": "code",
      "source": [
        "liste1"
      ],
      "metadata": {
        "colab": {
          "base_uri": "https://localhost:8080/"
        },
        "id": "me5YVAdd9UnU",
        "outputId": "37140d66-4a4b-4d48-ad50-10e506e95720"
      },
      "execution_count": 13,
      "outputs": [
        {
          "output_type": "execute_result",
          "data": {
            "text/plain": [
              "[1, 7, 19.3, 'rize', True, 3000, 'kerem']"
            ]
          },
          "metadata": {},
          "execution_count": 13
        }
      ]
    },
    {
      "cell_type": "code",
      "source": [
        "liste1[1]=69\n",
        "liste1"
      ],
      "metadata": {
        "colab": {
          "base_uri": "https://localhost:8080/"
        },
        "id": "vXap9_6J92lC",
        "outputId": "3e4f462a-1ee9-4070-fd03-b5c2dfdcf87d"
      },
      "execution_count": 16,
      "outputs": [
        {
          "output_type": "execute_result",
          "data": {
            "text/plain": [
              "[1, 69, 19.3, 'rize', True, 3000, 'kerem']"
            ]
          },
          "metadata": {},
          "execution_count": 16
        }
      ]
    },
    {
      "cell_type": "code",
      "source": [
        "tuple1=(3,10,1,\"kerem\",\"kuzey\",15.2)\n",
        "tuple1[3]=\"emincan\""
      ],
      "metadata": {
        "colab": {
          "base_uri": "https://localhost:8080/",
          "height": 194
        },
        "id": "4w-UHmC39aIJ",
        "outputId": "fc4a5d4c-0141-4d81-93b9-1d35cf3f3c88"
      },
      "execution_count": 18,
      "outputs": [
        {
          "output_type": "error",
          "ename": "TypeError",
          "evalue": "'tuple' object does not support item assignment",
          "traceback": [
            "\u001b[0;31m---------------------------------------------------------------------------\u001b[0m",
            "\u001b[0;31mTypeError\u001b[0m                                 Traceback (most recent call last)",
            "\u001b[0;32m<ipython-input-18-81193a95bdf1>\u001b[0m in \u001b[0;36m<cell line: 2>\u001b[0;34m()\u001b[0m\n\u001b[1;32m      1\u001b[0m \u001b[0mtuple1\u001b[0m\u001b[0;34m=\u001b[0m\u001b[0;34m(\u001b[0m\u001b[0;36m3\u001b[0m\u001b[0;34m,\u001b[0m\u001b[0;36m10\u001b[0m\u001b[0;34m,\u001b[0m\u001b[0;36m1\u001b[0m\u001b[0;34m,\u001b[0m\u001b[0;34m\"kerem\"\u001b[0m\u001b[0;34m,\u001b[0m\u001b[0;34m\"kuzey\"\u001b[0m\u001b[0;34m,\u001b[0m\u001b[0;36m15.2\u001b[0m\u001b[0;34m)\u001b[0m\u001b[0;34m\u001b[0m\u001b[0;34m\u001b[0m\u001b[0m\n\u001b[0;32m----> 2\u001b[0;31m \u001b[0mtuple1\u001b[0m\u001b[0;34m[\u001b[0m\u001b[0;36m3\u001b[0m\u001b[0;34m]\u001b[0m\u001b[0;34m=\u001b[0m\u001b[0;34m\"emincan\"\u001b[0m\u001b[0;34m\u001b[0m\u001b[0;34m\u001b[0m\u001b[0m\n\u001b[0m",
            "\u001b[0;31mTypeError\u001b[0m: 'tuple' object does not support item assignment"
          ]
        }
      ]
    },
    {
      "cell_type": "code",
      "source": [
        "kumeler1={5,\"aslı\",0,-4,19.1,0,0,5,\"burak\"}"
      ],
      "metadata": {
        "id": "-wB-0vl4-N9a"
      },
      "execution_count": 19,
      "outputs": []
    },
    {
      "cell_type": "code",
      "source": [
        "kumeler1"
      ],
      "metadata": {
        "colab": {
          "base_uri": "https://localhost:8080/"
        },
        "id": "YXephafu-zwO",
        "outputId": "cab73097-f457-4532-a2f8-9ad4e9be49b7"
      },
      "execution_count": 20,
      "outputs": [
        {
          "output_type": "execute_result",
          "data": {
            "text/plain": [
              "{-4, 0, 19.1, 5, 'aslı', 'burak'}"
            ]
          },
          "metadata": {},
          "execution_count": 20
        }
      ]
    },
    {
      "cell_type": "code",
      "source": [
        "liste = [1,1,1,1,3,4,5,6,1,2,6,4,6]\n",
        "len(set(liste))"
      ],
      "metadata": {
        "colab": {
          "base_uri": "https://localhost:8080/"
        },
        "id": "1pCsAgpy-165",
        "outputId": "e8f4aa36-cf28-47b4-e8e3-7d3d8c1b0849"
      },
      "execution_count": 24,
      "outputs": [
        {
          "output_type": "execute_result",
          "data": {
            "text/plain": [
              "6"
            ]
          },
          "metadata": {},
          "execution_count": 24
        }
      ]
    },
    {
      "cell_type": "markdown",
      "source": [
        "### Dictionaries"
      ],
      "metadata": {
        "id": "a2OYlOWO_fDe"
      }
    },
    {
      "cell_type": "code",
      "source": [
        "#key : value şeklinde değerleri tutar.\n",
        "#keyler her zaman string olmalı\n",
        "\n",
        "dict1={\"kuzey\":14,\"emincan\":27,\"ali\":35,\"kerem eymen\":15}\n",
        "dict1"
      ],
      "metadata": {
        "colab": {
          "base_uri": "https://localhost:8080/"
        },
        "id": "xi7jcap5-8wR",
        "outputId": "008c9452-6854-4174-cc9f-ffa079e3175f"
      },
      "execution_count": 26,
      "outputs": [
        {
          "output_type": "execute_result",
          "data": {
            "text/plain": [
              "{'kuzey': 14, 'emincan': 27, 'ali': 35, 'kerem eymen': 15}"
            ]
          },
          "metadata": {},
          "execution_count": 26
        }
      ]
    },
    {
      "cell_type": "code",
      "source": [
        "dict1.keys()"
      ],
      "metadata": {
        "colab": {
          "base_uri": "https://localhost:8080/"
        },
        "id": "74s3OXe8_Agh",
        "outputId": "18286493-2f16-4083-ead7-cbd65bc9a450"
      },
      "execution_count": 28,
      "outputs": [
        {
          "output_type": "execute_result",
          "data": {
            "text/plain": [
              "dict_keys(['kuzey', 'emincan', 'ali', 'kerem eymen'])"
            ]
          },
          "metadata": {},
          "execution_count": 28
        }
      ]
    },
    {
      "cell_type": "code",
      "source": [
        "dict1.values()"
      ],
      "metadata": {
        "colab": {
          "base_uri": "https://localhost:8080/"
        },
        "id": "xlwXNZ6qACUL",
        "outputId": "487f0038-3241-431a-adbc-097b72b12f38"
      },
      "execution_count": 29,
      "outputs": [
        {
          "output_type": "execute_result",
          "data": {
            "text/plain": [
              "dict_values([14, 27, 35, 15])"
            ]
          },
          "metadata": {},
          "execution_count": 29
        }
      ]
    },
    {
      "cell_type": "code",
      "source": [
        "dict1[\"ali\"]"
      ],
      "metadata": {
        "colab": {
          "base_uri": "https://localhost:8080/"
        },
        "id": "TThzmmtsAKVq",
        "outputId": "620ba7b0-eb10-4fc5-8379-bc94512f1935"
      },
      "execution_count": 30,
      "outputs": [
        {
          "output_type": "execute_result",
          "data": {
            "text/plain": [
              "35"
            ]
          },
          "metadata": {},
          "execution_count": 30
        }
      ]
    },
    {
      "cell_type": "code",
      "source": [
        "dict1[\"emincan\"]=25\n",
        "dict1"
      ],
      "metadata": {
        "colab": {
          "base_uri": "https://localhost:8080/"
        },
        "id": "y4DywrUPAQsZ",
        "outputId": "e9c0494e-65f3-404c-b927-bdf2f2b51f01"
      },
      "execution_count": 32,
      "outputs": [
        {
          "output_type": "execute_result",
          "data": {
            "text/plain": [
              "{'kuzey': 14, 'emincan': 25, 'ali': 35, 'kerem eymen': 15}"
            ]
          },
          "metadata": {},
          "execution_count": 32
        }
      ]
    },
    {
      "cell_type": "code",
      "source": [
        "# gerçek hayatta kullandığımız sözlükler benzeri bir kullanımı vardır.\n",
        "# sözlük elemanlarında key ve value dediğimiz 2 kavram vardır.\n",
        "# biz keyleri kullanarak istediğimi value değerlerine ulaşabiliriz.\n"
      ],
      "metadata": {
        "id": "mI0QmwFcAdfi"
      },
      "execution_count": 33,
      "outputs": []
    },
    {
      "cell_type": "code",
      "source": [
        "kisiselbilgiler = {}\n",
        "type(kisiselbilgiler)"
      ],
      "metadata": {
        "colab": {
          "base_uri": "https://localhost:8080/"
        },
        "id": "zUTScdGfA8hM",
        "outputId": "c121284f-bfe9-49f8-b399-bc41a646fb1d"
      },
      "execution_count": 34,
      "outputs": [
        {
          "output_type": "execute_result",
          "data": {
            "text/plain": [
              "dict"
            ]
          },
          "metadata": {},
          "execution_count": 34
        }
      ]
    },
    {
      "cell_type": "code",
      "source": [
        "kerem_bilgiler = {\"ad\":\"kerem\", \"soyad\":\"çeliker\",\"yas\":15,\"il\":\"rize\",\"resit\":False}\n",
        "kerem_bilgiler[\"ad\"]"
      ],
      "metadata": {
        "colab": {
          "base_uri": "https://localhost:8080/",
          "height": 35
        },
        "id": "ITY2DGnmBEgY",
        "outputId": "d7abda67-5836-40e9-ce48-7d5d3b0adbf9"
      },
      "execution_count": 36,
      "outputs": [
        {
          "output_type": "execute_result",
          "data": {
            "text/plain": [
              "'kerem'"
            ],
            "application/vnd.google.colaboratory.intrinsic+json": {
              "type": "string"
            }
          },
          "metadata": {},
          "execution_count": 36
        }
      ]
    },
    {
      "cell_type": "code",
      "source": [
        "len(kerem_bilgiler)"
      ],
      "metadata": {
        "colab": {
          "base_uri": "https://localhost:8080/"
        },
        "id": "WBBhfNKDBghJ",
        "outputId": "e7b0cb77-0e96-4c0b-d41d-217369b84337"
      },
      "execution_count": 37,
      "outputs": [
        {
          "output_type": "execute_result",
          "data": {
            "text/plain": [
              "5"
            ]
          },
          "metadata": {},
          "execution_count": 37
        }
      ]
    },
    {
      "cell_type": "code",
      "source": [
        "kerem_bilgiler.keys()"
      ],
      "metadata": {
        "colab": {
          "base_uri": "https://localhost:8080/"
        },
        "id": "YikHcmp6BsEY",
        "outputId": "8bc847d7-821d-4b86-83d1-104064845983"
      },
      "execution_count": 39,
      "outputs": [
        {
          "output_type": "execute_result",
          "data": {
            "text/plain": [
              "dict_keys(['ad', 'soyad', 'yas', 'il', 'resit'])"
            ]
          },
          "metadata": {},
          "execution_count": 39
        }
      ]
    },
    {
      "cell_type": "code",
      "source": [
        "kerem_bilgiler.values()"
      ],
      "metadata": {
        "colab": {
          "base_uri": "https://localhost:8080/"
        },
        "id": "LXe7PjpyCIeP",
        "outputId": "1be905b3-d1a6-4ce7-d286-e8d909d507f3"
      },
      "execution_count": 40,
      "outputs": [
        {
          "output_type": "execute_result",
          "data": {
            "text/plain": [
              "dict_values(['kerem', 'çeliker', 15, 'rize', False])"
            ]
          },
          "metadata": {},
          "execution_count": 40
        }
      ]
    },
    {
      "cell_type": "code",
      "source": [
        "kerem_bilgiler.items()"
      ],
      "metadata": {
        "colab": {
          "base_uri": "https://localhost:8080/"
        },
        "id": "NgaEx8lACNFr",
        "outputId": "d33560ad-4233-4a82-d70f-57ca592d47a3"
      },
      "execution_count": 41,
      "outputs": [
        {
          "output_type": "execute_result",
          "data": {
            "text/plain": [
              "dict_items([('ad', 'kerem'), ('soyad', 'çeliker'), ('yas', 15), ('il', 'rize'), ('resit', False)])"
            ]
          },
          "metadata": {},
          "execution_count": 41
        }
      ]
    },
    {
      "cell_type": "code",
      "source": [
        "kerem_bilgiler[\"il\"]=\"ankara\"\n",
        "kerem_bilgiler"
      ],
      "metadata": {
        "colab": {
          "base_uri": "https://localhost:8080/"
        },
        "id": "OZOVdL7PCSGC",
        "outputId": "6c92f7d4-9450-49d9-c024-852ab159fda8"
      },
      "execution_count": 43,
      "outputs": [
        {
          "output_type": "execute_result",
          "data": {
            "text/plain": [
              "{'ad': 'kerem', 'soyad': 'çeliker', 'yas': 15, 'il': 'ankara', 'resit': False}"
            ]
          },
          "metadata": {},
          "execution_count": 43
        }
      ]
    },
    {
      "cell_type": "code",
      "source": [
        "#done"
      ],
      "metadata": {
        "id": "x_Y3TSLtClUO"
      },
      "execution_count": null,
      "outputs": []
    }
  ]
}