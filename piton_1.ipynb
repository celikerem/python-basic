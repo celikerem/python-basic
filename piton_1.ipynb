{
  "nbformat": 4,
  "nbformat_minor": 0,
  "metadata": {
    "colab": {
      "provenance": []
    },
    "kernelspec": {
      "name": "python3",
      "display_name": "Python 3"
    },
    "language_info": {
      "name": "python"
    }
  },
  "cells": [
    {
      "cell_type": "code",
      "execution_count": null,
      "metadata": {
        "id": "4uWo8nbPoOux"
      },
      "outputs": [],
      "source": [
        "#Yorum satırı yapmak için # kullanılır.\n",
        "\n",
        "#Phyton dosyaları .py ya da .ipynb uzantılı dosyalar ile çalışır.\n",
        "\n",
        "# .py uzantılı dosyalar bir bütün olarak, .ipynb kod hücreleri halinde çalışır.\n",
        "\n",
        "#Bütün programlama dilleri en üstten en aşağıya doğrı satır satır çalışır.\n",
        "\n",
        "#Yazacağımız kodların yanına açıklama yapmak için # kullanabiliriz.\n",
        "\n",
        "#Kod hücresini çalıştırmak için 'Shift + Enter' tuşlarına basılır.\n",
        "\n",
        "#Ondalık sayılar ',' ile değil '.' ile gösterilir.\n"
      ]
    },
    {
      "cell_type": "code",
      "source": [
        "#Phyton'da matematiksel işlemler yapılabilir.\n",
        "#'+' işareti toplama,\n",
        "#'-' işareti çıkarma,\n",
        "#'*' işareti çarpma,\n",
        "#'/' işareti bölme,\n",
        "#'//' işareti kalansız bölme,\n",
        "#'**' işareti üs alma işlemini yapar."
      ],
      "metadata": {
        "id": "GleWa3t8ookC"
      },
      "execution_count": null,
      "outputs": []
    },
    {
      "cell_type": "code",
      "source": [
        "#Phyton'da bazı veri tipleri vardır. Bunlardan en temelleri:\n",
        "# 1) Integer(Tam sayılar)\n",
        "# 2) Float (Ondalık sayılar)\n",
        "# 3) String (Yazılar)\n"
      ],
      "metadata": {
        "id": "IWtFZQEvopgZ"
      },
      "execution_count": null,
      "outputs": []
    },
    {
      "cell_type": "code",
      "source": [
        "# 6                   : Int\n",
        "# 18.2                : Float\n",
        "# \"Ben Rizeliyim\"     : Str\n",
        "# 17.0                : Float\n",
        "# '7'                 : Str"
      ],
      "metadata": {
        "id": "HaBRG9rvsX7b"
      },
      "execution_count": null,
      "outputs": []
    },
    {
      "cell_type": "code",
      "source": [
        "3+5"
      ],
      "metadata": {
        "id": "0GvyFuVUtL94",
        "outputId": "76b54b1c-8322-4ef4-8c8f-48e59cb8f60b",
        "colab": {
          "base_uri": "https://localhost:8080/"
        }
      },
      "execution_count": null,
      "outputs": [
        {
          "output_type": "execute_result",
          "data": {
            "text/plain": [
              "8"
            ]
          },
          "metadata": {},
          "execution_count": 6
        }
      ]
    },
    {
      "cell_type": "code",
      "source": [
        "64*192"
      ],
      "metadata": {
        "id": "vAmVm420tWLs",
        "outputId": "6db8500e-9739-4cd0-b9bf-cbbbb8461370",
        "colab": {
          "base_uri": "https://localhost:8080/"
        }
      },
      "execution_count": null,
      "outputs": [
        {
          "output_type": "execute_result",
          "data": {
            "text/plain": [
              "12288"
            ]
          },
          "metadata": {},
          "execution_count": 11
        }
      ]
    },
    {
      "cell_type": "code",
      "source": [
        "2**64"
      ],
      "metadata": {
        "id": "Wa-_VWl0tmao",
        "outputId": "c4b898b6-f9ab-4213-a4a7-7c5d91399b19",
        "colab": {
          "base_uri": "https://localhost:8080/"
        }
      },
      "execution_count": null,
      "outputs": [
        {
          "output_type": "execute_result",
          "data": {
            "text/plain": [
              "18446744073709551616"
            ]
          },
          "metadata": {},
          "execution_count": 13
        }
      ]
    },
    {
      "cell_type": "code",
      "source": [
        "10 / 2"
      ],
      "metadata": {
        "id": "mEHVIEM-t84h",
        "outputId": "312f6a70-bd4c-402c-a3df-cd567b9b260c",
        "colab": {
          "base_uri": "https://localhost:8080/"
        }
      },
      "execution_count": null,
      "outputs": [
        {
          "output_type": "execute_result",
          "data": {
            "text/plain": [
              "5.0"
            ]
          },
          "metadata": {},
          "execution_count": 17
        }
      ]
    },
    {
      "cell_type": "code",
      "source": [
        "2.6 // 1.3"
      ],
      "metadata": {
        "id": "Hwf0CLkUuFkQ",
        "outputId": "01f70511-41f0-4abd-bc4c-656973b52d7c",
        "colab": {
          "base_uri": "https://localhost:8080/"
        }
      },
      "execution_count": null,
      "outputs": [
        {
          "output_type": "execute_result",
          "data": {
            "text/plain": [
              "2.0"
            ]
          },
          "metadata": {},
          "execution_count": 19
        }
      ]
    },
    {
      "cell_type": "code",
      "source": [
        "11 // 2"
      ],
      "metadata": {
        "id": "fJnOcq-guZAy",
        "outputId": "415cc920-4bcd-484a-fe44-f5195b994435",
        "colab": {
          "base_uri": "https://localhost:8080/"
        }
      },
      "execution_count": null,
      "outputs": [
        {
          "output_type": "execute_result",
          "data": {
            "text/plain": [
              "5"
            ]
          },
          "metadata": {},
          "execution_count": 21
        }
      ]
    },
    {
      "cell_type": "code",
      "source": [
        "3**15"
      ],
      "metadata": {
        "id": "kO1IaByhugfu",
        "outputId": "7aa883ec-7b7a-42aa-e940-dfeae191fb30",
        "colab": {
          "base_uri": "https://localhost:8080/"
        }
      },
      "execution_count": null,
      "outputs": [
        {
          "output_type": "execute_result",
          "data": {
            "text/plain": [
              "14348907"
            ]
          },
          "metadata": {},
          "execution_count": 23
        }
      ]
    },
    {
      "cell_type": "code",
      "source": [
        "#bitti"
      ],
      "metadata": {
        "id": "4AytyIenutPm"
      },
      "execution_count": null,
      "outputs": []
    },
    {
      "cell_type": "code",
      "source": [
        "1756*128"
      ],
      "metadata": {
        "colab": {
          "base_uri": "https://localhost:8080/"
        },
        "id": "IWaOngpzsL_l",
        "outputId": "2d9d66d2-a744-4338-a4ee-e1e985473f32"
      },
      "execution_count": null,
      "outputs": [
        {
          "output_type": "execute_result",
          "data": {
            "text/plain": [
              "224768"
            ]
          },
          "metadata": {},
          "execution_count": 1
        }
      ]
    },
    {
      "cell_type": "code",
      "source": [
        "89507/16"
      ],
      "metadata": {
        "colab": {
          "base_uri": "https://localhost:8080/"
        },
        "id": "lq5c6YZWsek9",
        "outputId": "98e3b4f4-02b9-4ec0-a17e-dc5aa10e8b06"
      },
      "execution_count": null,
      "outputs": [
        {
          "output_type": "execute_result",
          "data": {
            "text/plain": [
              "5594.1875"
            ]
          },
          "metadata": {},
          "execution_count": 5
        }
      ]
    },
    {
      "cell_type": "code",
      "source": [
        "942083//7"
      ],
      "metadata": {
        "colab": {
          "base_uri": "https://localhost:8080/"
        },
        "id": "-eG1qYT4sit3",
        "outputId": "9371fd42-e95e-4e40-95ff-7257fe341f46"
      },
      "execution_count": null,
      "outputs": [
        {
          "output_type": "execute_result",
          "data": {
            "text/plain": [
              "134583"
            ]
          },
          "metadata": {},
          "execution_count": 4
        }
      ]
    },
    {
      "cell_type": "code",
      "source": [
        "3+6"
      ],
      "metadata": {
        "colab": {
          "base_uri": "https://localhost:8080/"
        },
        "id": "_OKmZhHkstnK",
        "outputId": "e2fac77f-ba66-4afb-d01d-5aa4145293af"
      },
      "execution_count": null,
      "outputs": [
        {
          "output_type": "execute_result",
          "data": {
            "text/plain": [
              "12"
            ]
          },
          "metadata": {},
          "execution_count": 7
        }
      ]
    },
    {
      "cell_type": "code",
      "source": [
        "17-5"
      ],
      "metadata": {
        "colab": {
          "base_uri": "https://localhost:8080/"
        },
        "id": "qurnK_wVs6Cd",
        "outputId": "ebae34b4-7bd1-4434-d343-8f69451e463d"
      },
      "execution_count": null,
      "outputs": [
        {
          "output_type": "execute_result",
          "data": {
            "text/plain": [
              "12"
            ]
          },
          "metadata": {},
          "execution_count": 8
        }
      ]
    },
    {
      "cell_type": "code",
      "source": [
        "13*7"
      ],
      "metadata": {
        "colab": {
          "base_uri": "https://localhost:8080/"
        },
        "id": "K9pnFNwbs_rX",
        "outputId": "56157634-d50f-416c-ffa4-b7cc89775a01"
      },
      "execution_count": null,
      "outputs": [
        {
          "output_type": "execute_result",
          "data": {
            "text/plain": [
              "91"
            ]
          },
          "metadata": {},
          "execution_count": 9
        }
      ]
    },
    {
      "cell_type": "code",
      "source": [
        "20/4"
      ],
      "metadata": {
        "colab": {
          "base_uri": "https://localhost:8080/"
        },
        "id": "jUiy6NQwtC-z",
        "outputId": "9dd3e0f9-e3ad-4f22-b35c-24b026c658ee"
      },
      "execution_count": null,
      "outputs": [
        {
          "output_type": "execute_result",
          "data": {
            "text/plain": [
              "5.0"
            ]
          },
          "metadata": {},
          "execution_count": 10
        }
      ]
    },
    {
      "cell_type": "code",
      "source": [
        "40//7"
      ],
      "metadata": {
        "colab": {
          "base_uri": "https://localhost:8080/"
        },
        "id": "7srEbMOXtIXQ",
        "outputId": "7f67ee2e-8533-44fe-af1b-d3e01baf8c4e"
      },
      "execution_count": null,
      "outputs": [
        {
          "output_type": "execute_result",
          "data": {
            "text/plain": [
              "5"
            ]
          },
          "metadata": {},
          "execution_count": 11
        }
      ]
    },
    {
      "cell_type": "code",
      "source": [
        "13.2+25.7"
      ],
      "metadata": {
        "colab": {
          "base_uri": "https://localhost:8080/"
        },
        "id": "fyUfXCmKtKLK",
        "outputId": "8b647c86-6931-43cd-95b9-921375ccbd33"
      },
      "execution_count": null,
      "outputs": [
        {
          "output_type": "execute_result",
          "data": {
            "text/plain": [
              "38.9"
            ]
          },
          "metadata": {},
          "execution_count": 12
        }
      ]
    },
    {
      "cell_type": "code",
      "source": [
        "21.9-33.2"
      ],
      "metadata": {
        "colab": {
          "base_uri": "https://localhost:8080/"
        },
        "id": "aKVd2gz5tRop",
        "outputId": "53a101c1-774b-4a0f-b9a4-6fc7c8d12a44"
      },
      "execution_count": null,
      "outputs": [
        {
          "output_type": "execute_result",
          "data": {
            "text/plain": [
              "-11.300000000000004"
            ]
          },
          "metadata": {},
          "execution_count": 13
        }
      ]
    },
    {
      "cell_type": "code",
      "source": [
        "45.6*76.8"
      ],
      "metadata": {
        "colab": {
          "base_uri": "https://localhost:8080/"
        },
        "id": "We7F4lWbtY5T",
        "outputId": "5e3c92d9-d6e9-4d42-9e1a-33c6f6574624"
      },
      "execution_count": null,
      "outputs": [
        {
          "output_type": "execute_result",
          "data": {
            "text/plain": [
              "3502.08"
            ]
          },
          "metadata": {},
          "execution_count": 14
        }
      ]
    },
    {
      "cell_type": "code",
      "source": [
        "15.4/7.3"
      ],
      "metadata": {
        "colab": {
          "base_uri": "https://localhost:8080/"
        },
        "id": "0kRmoondtcRt",
        "outputId": "3c4612f8-56b6-4360-9020-055d8917a0fb"
      },
      "execution_count": null,
      "outputs": [
        {
          "output_type": "execute_result",
          "data": {
            "text/plain": [
              "2.1095890410958904"
            ]
          },
          "metadata": {},
          "execution_count": 15
        }
      ]
    },
    {
      "cell_type": "code",
      "source": [
        "55.6//66.5"
      ],
      "metadata": {
        "colab": {
          "base_uri": "https://localhost:8080/"
        },
        "id": "lp2Cdf5Wtg78",
        "outputId": "4ea85484-ffc1-4dde-ab82-0740514e4841"
      },
      "execution_count": null,
      "outputs": [
        {
          "output_type": "execute_result",
          "data": {
            "text/plain": [
              "0.0"
            ]
          },
          "metadata": {},
          "execution_count": 16
        }
      ]
    },
    {
      "cell_type": "code",
      "source": [
        "#phtyon:Python 1980'lerin sonunda ABC programlama diline alternatif olarak tasarlanmıştı.\n",
        "#Django, Zope uygulama sunucuları, YouTube ve orijinal BitTorrent istemcisi Python kullanan önemli projelerden bazılarıdır."
      ],
      "metadata": {
        "id": "ypCofZeatptL"
      },
      "execution_count": null,
      "outputs": []
    },
    {
      "cell_type": "code",
      "source": [
        "#C#; Microsoft tarafından .NET Teknolojisi için geliştirilen modern bir programlama dilidir.\n",
        "#Masaüstü, mobil, web ve oyun geliştirmede kullanılır."
      ],
      "metadata": {
        "id": "3gB_nPNlufaa"
      },
      "execution_count": null,
      "outputs": []
    },
    {
      "cell_type": "code",
      "source": [
        "#c++:C++, Bell Laboratuvarlarından Bjarne Stroustrup tarafından 1979 yılından itibaren geliştirilmeye başlanmış.\n",
        "#C++ yazılım dili; oyunlar, grafik kütüphaneleri, antivirüs programları ve komut verme sistemleri gibi alanlarda kullanılır."
      ],
      "metadata": {
        "id": "-Z1gycREu7ej"
      },
      "execution_count": null,
      "outputs": []
    },
    {
      "cell_type": "code",
      "source": [
        "#Türkiye'de kişisel verilerin korunması \"MADDE 5- (1) Kişisel veriler ilgili kişinin açık rızası olmaksızın işlenemez.\" kvkk:kişisel verilerin korunma kanunu"
      ],
      "metadata": {
        "id": "eH69YOXavbWx"
      },
      "execution_count": null,
      "outputs": []
    }
  ]
}