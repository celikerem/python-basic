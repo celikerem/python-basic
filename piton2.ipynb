{
  "nbformat": 4,
  "nbformat_minor": 0,
  "metadata": {
    "colab": {
      "provenance": []
    },
    "kernelspec": {
      "name": "python3",
      "display_name": "Python 3"
    },
    "language_info": {
      "name": "python"
    }
  },
  "cells": [
    {
      "cell_type": "markdown",
      "source": [
        "#değişken atamaları"
      ],
      "metadata": {
        "id": "UlBenH6N2sEJ"
      }
    },
    {
      "cell_type": "code",
      "execution_count": null,
      "metadata": {
        "id": "XQSMrHaR2eqg"
      },
      "outputs": [],
      "source": [
        "#Saklamak istediğimiz verilerin bir değişken içersinde saklayabiliriz\n",
        "#oluşturacağımız değişkenlerin isimlerinin biz belirliyoruz.(ama bazı kurallar var)\n",
        "#değişkene atama yapmak için '=' işareti kullanılır."
      ]
    },
    {
      "cell_type": "code",
      "source": [
        "x = 10 #'x' değişkeni içerisine 10 değerini atadık."
      ],
      "metadata": {
        "id": "-ldywEH32uE_"
      },
      "execution_count": null,
      "outputs": []
    },
    {
      "cell_type": "code",
      "source": [
        "x + 10"
      ],
      "metadata": {
        "colab": {
          "base_uri": "https://localhost:8080/"
        },
        "id": "xHRWLtAe3eza",
        "outputId": "3b3d94a2-e9d3-41c5-b270-4dff2de38d03"
      },
      "execution_count": null,
      "outputs": [
        {
          "output_type": "execute_result",
          "data": {
            "text/plain": [
              "20"
            ]
          },
          "metadata": {},
          "execution_count": 2
        }
      ]
    },
    {
      "cell_type": "code",
      "source": [
        "a = 5\n",
        "b = 50\n",
        "c = a + b\n",
        "d = c + x\n",
        "k = a**b"
      ],
      "metadata": {
        "id": "AmaI9nm53gm0"
      },
      "execution_count": null,
      "outputs": []
    },
    {
      "cell_type": "code",
      "source": [
        "k"
      ],
      "metadata": {
        "colab": {
          "base_uri": "https://localhost:8080/"
        },
        "id": "YH-4Yvk_3xsM",
        "outputId": "d3516b73-9ae7-402c-9416-1e268df160cf"
      },
      "execution_count": null,
      "outputs": [
        {
          "output_type": "execute_result",
          "data": {
            "text/plain": [
              "88817841970012523233890533447265625"
            ]
          },
          "metadata": {},
          "execution_count": 9
        }
      ]
    },
    {
      "cell_type": "code",
      "source": [
        "x"
      ],
      "metadata": {
        "colab": {
          "base_uri": "https://localhost:8080/"
        },
        "id": "GokCQ5Cj3ysR",
        "outputId": "f884acb3-1990-46df-eeee-736b1c533c77"
      },
      "execution_count": null,
      "outputs": [
        {
          "output_type": "execute_result",
          "data": {
            "text/plain": [
              "10"
            ]
          },
          "metadata": {},
          "execution_count": 10
        }
      ]
    },
    {
      "cell_type": "code",
      "source": [
        "x = 7 #son yapılan atama geçerlidir (overwriting)"
      ],
      "metadata": {
        "id": "FakP5oNI4IXx"
      },
      "execution_count": null,
      "outputs": []
    },
    {
      "cell_type": "code",
      "source": [
        "x"
      ],
      "metadata": {
        "colab": {
          "base_uri": "https://localhost:8080/"
        },
        "id": "Pe2j1I454LOW",
        "outputId": "8dfe4e9d-2edc-45f4-b724-2b29e6ef4b05"
      },
      "execution_count": null,
      "outputs": [
        {
          "output_type": "execute_result",
          "data": {
            "text/plain": [
              "7"
            ]
          },
          "metadata": {},
          "execution_count": 12
        }
      ]
    },
    {
      "cell_type": "code",
      "source": [
        "# soru 1: x değişkenine 324'ü, y değişkenine 36'yı, z değişkenine 154'ü atayın.\n",
        "x = 324\n",
        "y = 36\n",
        "z = 153\n",
        "(x+z) * y"
      ],
      "metadata": {
        "colab": {
          "base_uri": "https://localhost:8080/"
        },
        "id": "b2Bo7QdU4MDg",
        "outputId": "cbeab42f-e021-43af-8584-f154fa1b5a74"
      },
      "execution_count": null,
      "outputs": [
        {
          "output_type": "execute_result",
          "data": {
            "text/plain": [
              "17172"
            ]
          },
          "metadata": {},
          "execution_count": 14
        }
      ]
    },
    {
      "cell_type": "code",
      "source": [
        "#soru 2: a değişkenine 762'yi bye 921i c ye 6yı atayın\n",
        "#a sayısının 3 katından b sayısının 2 katını çıkartın. çıkan sonucun c. üssünü alın\n",
        "a = 762\n",
        "b = 921\n",
        "c = 6\n",
        "(3 * a - 2 * b)**c"
      ],
      "metadata": {
        "colab": {
          "base_uri": "https://localhost:8080/"
        },
        "id": "Ky3CgpJy4_DS",
        "outputId": "d3300c67-01e5-4b70-a79f-f74626ea285c"
      },
      "execution_count": null,
      "outputs": [
        {
          "output_type": "execute_result",
          "data": {
            "text/plain": [
              "7661218005651456"
            ]
          },
          "metadata": {},
          "execution_count": 18
        }
      ]
    },
    {
      "cell_type": "code",
      "source": [
        "#x sayısını 5 y sayısını 13 z sayısını 8 olarak atayın. y sayısının xinci kuvvetinden z sayısının xinci kuvvetini çıkartın\n",
        "x = 5\n",
        "y = 13\n",
        "z = 8\n",
        "(y**x) - (z**x)"
      ],
      "metadata": {
        "colab": {
          "base_uri": "https://localhost:8080/"
        },
        "id": "1Z7-dg885VHC",
        "outputId": "3ce1db5a-afa5-46f8-ee74-e8d3ca1be11b"
      },
      "execution_count": null,
      "outputs": [
        {
          "output_type": "execute_result",
          "data": {
            "text/plain": [
              "338525"
            ]
          },
          "metadata": {},
          "execution_count": 19
        }
      ]
    },
    {
      "cell_type": "markdown",
      "source": [
        "##Değişken ismi atama kuralları"
      ],
      "metadata": {
        "id": "OuHZHGyA6HgP"
      }
    },
    {
      "cell_type": "code",
      "source": [
        "# Değişken isimlerini biz belirleriz fakat uymamız gereken bazı kurallar vardır.\n",
        "# 1) değişken isimleri sayı ile başlayamaz\n",
        "# 2) değişken isimlerinde boşluk olmaz\n",
        "# 3) değişken isimlerinde özel semboller kullanamayız ('_' hariç)\n",
        "# 4) değişken isimlerinde büyük küçük harf duyarlılığı vardır.\n",
        "# 5) değişken isimleri verilirken türkçe karakter kullanmamaya özen gösterelim.\n",
        "# 6) değişken isimlerinin genel kullanımında küçük harflerle başlanılır.\n",
        "# 7) uzun değişken isimleri yazılırken en meşhur 2 yöntem vardır (snake_case, camelCase)"
      ],
      "metadata": {
        "id": "HxbfqJnI5-kA"
      },
      "execution_count": null,
      "outputs": []
    },
    {
      "cell_type": "code",
      "source": [
        "elma4 = 20\n"
      ],
      "metadata": {
        "id": "5d0LfEdJ7MP5"
      },
      "execution_count": null,
      "outputs": []
    },
    {
      "cell_type": "code",
      "source": [
        "?isim = onur\n"
      ],
      "metadata": {
        "colab": {
          "base_uri": "https://localhost:8080/"
        },
        "id": "hFAkLSLW7O-G",
        "outputId": "95525c1e-6a7d-49f3-923b-794ffcac507d"
      },
      "execution_count": null,
      "outputs": [
        {
          "output_type": "stream",
          "name": "stdout",
          "text": [
            "Object `isim = onur` not found.\n"
          ]
        }
      ]
    },
    {
      "cell_type": "code",
      "source": [
        "araba = \"BMW\"\n",
        "Araba"
      ],
      "metadata": {
        "id": "Aq2CYIWK7hHq"
      },
      "execution_count": null,
      "outputs": []
    },
    {
      "cell_type": "code",
      "source": [
        "kuzey_yas = 13 #snake_case"
      ],
      "metadata": {
        "id": "RZcqyJiD7nxx"
      },
      "execution_count": null,
      "outputs": []
    },
    {
      "cell_type": "code",
      "source": [
        "keremYas = 13 #camelCase"
      ],
      "metadata": {
        "id": "4AQt3ksn75ET"
      },
      "execution_count": null,
      "outputs": []
    }
  ]
}