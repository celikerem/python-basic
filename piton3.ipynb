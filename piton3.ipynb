{
  "nbformat": 4,
  "nbformat_minor": 0,
  "metadata": {
    "colab": {
      "provenance": []
    },
    "kernelspec": {
      "name": "python3",
      "display_name": "Python 3"
    },
    "language_info": {
      "name": "python"
    }
  },
  "cells": [
    {
      "cell_type": "code",
      "execution_count": null,
      "metadata": {
        "id": "_7P0AeIZ8aBk"
      },
      "outputs": [],
      "source": [
        "# veri tipleri\n",
        "# 1) int\n",
        "# 2) float\n",
        "# 3) string (yazılar)"
      ]
    },
    {
      "cell_type": "markdown",
      "source": [
        "#String İfadeler"
      ],
      "metadata": {
        "id": "a6Fum__p8tkm"
      }
    },
    {
      "cell_type": "code",
      "source": [
        "#  Metinsel ifadelerin(String)\"\" işareti arasında yazmak zorundayız.\n",
        "# \"\" ya da '' şeklinde kullanılabilir\n",
        "# String ifadeler genelde print() fonksiyonuyla ekrana bir yazı yazdırmak için kullanılır.\n",
        "# kod hücresinde en son satırda yazan ifade ekrana print edilir.\n",
        "# string ifadelere ait fonksiyonlar ve metodlar oldukça fazladır.\n",
        "# fonksiyon birden çok veri tipinde kullanabilen işlemlerdir metod ise yalnız bir class'ta kullanılabilir."
      ],
      "metadata": {
        "id": "Pn_MI9Zw8w7j"
      },
      "execution_count": null,
      "outputs": []
    },
    {
      "cell_type": "code",
      "source": [
        "'merhaba ben kerem'"
      ],
      "metadata": {
        "colab": {
          "base_uri": "https://localhost:8080/",
          "height": 36
        },
        "id": "AiVdVMvN9s8X",
        "outputId": "4ac95e9b-39cc-48ff-eca0-7fa7cd66503d"
      },
      "execution_count": null,
      "outputs": [
        {
          "output_type": "execute_result",
          "data": {
            "text/plain": [
              "'merhaba ben kerem'"
            ],
            "application/vnd.google.colaboratory.intrinsic+json": {
              "type": "string"
            }
          },
          "metadata": {},
          "execution_count": 2
        }
      ]
    },
    {
      "cell_type": "code",
      "source": [
        "\"ben 10 yıldır rize'de yaşıyorum.\""
      ],
      "metadata": {
        "colab": {
          "base_uri": "https://localhost:8080/",
          "height": 36
        },
        "id": "IThXjJCP9wmH",
        "outputId": "c125ed45-bbec-408b-aa37-b08f7e26e80f"
      },
      "execution_count": null,
      "outputs": [
        {
          "output_type": "execute_result",
          "data": {
            "text/plain": [
              "\"ben 10 yıldır rize'de yaşıyorum.\""
            ],
            "application/vnd.google.colaboratory.intrinsic+json": {
              "type": "string"
            }
          },
          "metadata": {},
          "execution_count": 3
        }
      ]
    },
    {
      "cell_type": "code",
      "source": [
        "tanisma = \"merhaba tanisabilir miyiz ?\""
      ],
      "metadata": {
        "id": "T9533hIP96tj"
      },
      "execution_count": null,
      "outputs": []
    },
    {
      "cell_type": "code",
      "source": [
        "tanisma"
      ],
      "metadata": {
        "colab": {
          "base_uri": "https://localhost:8080/",
          "height": 36
        },
        "id": "BpC2keEF-J9C",
        "outputId": "7d64a79d-d76a-4350-f5d7-0025faeb5d5e"
      },
      "execution_count": null,
      "outputs": [
        {
          "output_type": "execute_result",
          "data": {
            "text/plain": [
              "'merhaba tanisabilir miyiz ?'"
            ],
            "application/vnd.google.colaboratory.intrinsic+json": {
              "type": "string"
            }
          },
          "metadata": {},
          "execution_count": 5
        }
      ]
    },
    {
      "cell_type": "markdown",
      "source": [
        "#print-len-type fonksiyonları"
      ],
      "metadata": {
        "id": "Q03Mcas7-Rja"
      }
    },
    {
      "cell_type": "markdown",
      "source": [
        "\n",
        "## print() fonksiyonu\n"
      ],
      "metadata": {
        "id": "KkY7gfoH-aD8"
      }
    },
    {
      "cell_type": "code",
      "source": [
        "#print() fonksiyonu istediğimiz şeyleri ekrayana bastırmak için kullanılır."
      ],
      "metadata": {
        "id": "LuOC_Z74-Kky"
      },
      "execution_count": null,
      "outputs": []
    },
    {
      "cell_type": "code",
      "source": [
        "print(53)"
      ],
      "metadata": {
        "colab": {
          "base_uri": "https://localhost:8080/"
        },
        "id": "aDierAfQ-ljn",
        "outputId": "d136ac89-5444-4299-ffde-350835267dda"
      },
      "execution_count": null,
      "outputs": [
        {
          "output_type": "stream",
          "name": "stdout",
          "text": [
            "53\n"
          ]
        }
      ]
    },
    {
      "cell_type": "code",
      "source": [
        "print(18.4)"
      ],
      "metadata": {
        "colab": {
          "base_uri": "https://localhost:8080/"
        },
        "id": "qPrOHOzH-ntV",
        "outputId": "f84e17d9-dd8d-4dcc-ac44-f742687cf091"
      },
      "execution_count": null,
      "outputs": [
        {
          "output_type": "stream",
          "name": "stdout",
          "text": [
            "18.4\n"
          ]
        }
      ]
    },
    {
      "cell_type": "code",
      "source": [
        "print(\"kerem\")"
      ],
      "metadata": {
        "colab": {
          "base_uri": "https://localhost:8080/"
        },
        "id": "xkV1Imkx-qk2",
        "outputId": "bff004b6-e218-412c-c0bb-89aedabe13bf"
      },
      "execution_count": null,
      "outputs": [
        {
          "output_type": "stream",
          "name": "stdout",
          "text": [
            "kerem\n"
          ]
        }
      ]
    },
    {
      "cell_type": "code",
      "source": [
        "cümle = \"üniversitede derece yapacağım\"\n"
      ],
      "metadata": {
        "id": "5UEto2y6-sxC"
      },
      "execution_count": null,
      "outputs": []
    },
    {
      "cell_type": "code",
      "source": [
        "print('cümle')"
      ],
      "metadata": {
        "colab": {
          "base_uri": "https://localhost:8080/"
        },
        "id": "-2PLC9Iy-3bp",
        "outputId": "d1bd204a-f323-42bb-ed24-a3a0fa2dbd2e"
      },
      "execution_count": null,
      "outputs": [
        {
          "output_type": "stream",
          "name": "stdout",
          "text": [
            "cümle\n"
          ]
        }
      ]
    },
    {
      "cell_type": "code",
      "source": [
        "print(cümle)"
      ],
      "metadata": {
        "colab": {
          "base_uri": "https://localhost:8080/"
        },
        "id": "CAZzpDP5-6_w",
        "outputId": "eeeac2ca-d8eb-40e3-c004-e38ad65a2937"
      },
      "execution_count": null,
      "outputs": [
        {
          "output_type": "stream",
          "name": "stdout",
          "text": [
            "üniversitede derece yapacağım\n"
          ]
        }
      ]
    },
    {
      "cell_type": "code",
      "source": [
        "#print() fonksiyonu kuralları"
      ],
      "metadata": {
        "id": "kfpstRKh_DmF"
      },
      "execution_count": null,
      "outputs": []
    },
    {
      "cell_type": "code",
      "source": [
        "#1) string ifadeleri tırnak içine almazsak kod hata verir\n",
        "print(merhaba)    #bu hata verir\n",
        "print(\"merhaba\")  #bu çalışır"
      ],
      "metadata": {
        "id": "PFGA-dwD_QfI"
      },
      "execution_count": null,
      "outputs": []
    },
    {
      "cell_type": "code",
      "source": [
        "# 2) string dışındaki int ve float sayıları tırnak içine almamıza gerek yoktur.\n",
        "\n",
        "print(7)     #doğru\n",
        "print(15.2)  #doğru"
      ],
      "metadata": {
        "colab": {
          "base_uri": "https://localhost:8080/"
        },
        "id": "TjpSPbBJ_vaS",
        "outputId": "fdd238e0-b333-47e7-bf3f-d47041b7dfcd"
      },
      "execution_count": null,
      "outputs": [
        {
          "output_type": "stream",
          "name": "stdout",
          "text": [
            "7\n",
            "15.2\n"
          ]
        }
      ]
    },
    {
      "cell_type": "code",
      "source": [
        "#3) sayıları tırank içine alırsak bilgisayar için o bir sayı değildir\n",
        "\n",
        "print(5)\n",
        "print(\"5\")"
      ],
      "metadata": {
        "colab": {
          "base_uri": "https://localhost:8080/"
        },
        "id": "7PBu8V_mAElx",
        "outputId": "6d4dbe48-49b5-487f-cdf8-57d99c472a83"
      },
      "execution_count": null,
      "outputs": [
        {
          "output_type": "stream",
          "name": "stdout",
          "text": [
            "5\n",
            "5\n"
          ]
        }
      ]
    },
    {
      "cell_type": "code",
      "source": [
        "print(5+3)\n",
        "print(\"5\" + 3)"
      ],
      "metadata": {
        "id": "vO3IGgOFAN17"
      },
      "execution_count": null,
      "outputs": []
    },
    {
      "cell_type": "code",
      "source": [
        "#4) boş bir string ekrana yazdırılabilir\n",
        "print(\"\")"
      ],
      "metadata": {
        "colab": {
          "base_uri": "https://localhost:8080/"
        },
        "id": "ArJi4BzdAdXJ",
        "outputId": "e4cdc76f-88c8-4278-9afb-edc56fc1fd89"
      },
      "execution_count": null,
      "outputs": [
        {
          "output_type": "stream",
          "name": "stdout",
          "text": [
            "\n"
          ]
        }
      ]
    },
    {
      "cell_type": "code",
      "source": [
        "#5) virgüller ifadelerin arasına bir boşluk bırakır\n",
        "\n",
        "print(\"kerem\",\"çeliker\")"
      ],
      "metadata": {
        "colab": {
          "base_uri": "https://localhost:8080/"
        },
        "id": "lKb_DJDsAsRR",
        "outputId": "9598a575-dada-43f0-e732-c0ccf41d4daf"
      },
      "execution_count": null,
      "outputs": [
        {
          "output_type": "stream",
          "name": "stdout",
          "text": [
            "kerem çeliker\n"
          ]
        }
      ]
    },
    {
      "cell_type": "code",
      "source": [
        "print(\"asd\",\"okul\",\"meslek\",\"araba\")"
      ],
      "metadata": {
        "colab": {
          "base_uri": "https://localhost:8080/"
        },
        "id": "eXNW904rA28g",
        "outputId": "628e1d5f-5db5-44a6-91f5-486ee7464eb9"
      },
      "execution_count": null,
      "outputs": [
        {
          "output_type": "stream",
          "name": "stdout",
          "text": [
            "asd okul meslek araba\n"
          ]
        }
      ]
    },
    {
      "cell_type": "code",
      "source": [
        "#6) + işareti string ifadeleri boşluk bırakmadan birleştirir\n",
        "\n",
        "print(\"kerem\"+\"çeliker\")"
      ],
      "metadata": {
        "colab": {
          "base_uri": "https://localhost:8080/"
        },
        "id": "MHnqNZxIBJT2",
        "outputId": "1fbe8783-48ba-4080-ae67-e5ddc33a918c"
      },
      "execution_count": null,
      "outputs": [
        {
          "output_type": "stream",
          "name": "stdout",
          "text": [
            "keremçeliker\n"
          ]
        }
      ]
    },
    {
      "cell_type": "code",
      "source": [
        "# soru:\n",
        "\n",
        "print(\"100\" + 5)\n",
        "\n",
        "#string yalnızca string, int yalnızca int ile toplanabilir."
      ],
      "metadata": {
        "id": "kemCURkdBTQO"
      },
      "execution_count": null,
      "outputs": []
    },
    {
      "cell_type": "code",
      "source": [
        "#bitti"
      ],
      "metadata": {
        "id": "4eDFDzn-BhtY"
      },
      "execution_count": null,
      "outputs": []
    },
    {
      "cell_type": "markdown",
      "source": [],
      "metadata": {
        "id": "os18scMtB9vr"
      }
    }
  ]
}